{
 "cells": [
  {
   "cell_type": "markdown",
   "metadata": {},
   "source": [
    "## LeetCode Problems"
   ]
  },
  {
   "cell_type": "markdown",
   "metadata": {},
   "source": [
    "1) https://leetcode.com/problems/two-sum/"
   ]
  },
  {
   "cell_type": "code",
   "execution_count": null,
   "metadata": {},
   "outputs": [],
   "source": [
    "class Solution(object):\n",
    "    def twoSum(self, nums, target):\n",
    "        \"\"\"\n",
    "        :type nums: List[int]\n",
    "        :type target: int\n",
    "        :rtype: List[int]\n",
    "        \"\"\"\n",
    "        d = {}\n",
    "        \n",
    "        for index, value in enumerate(nums):\n",
    "            req = target - value\n",
    "            if req in d:\n",
    "                return [d[req], index]\n",
    "            else:\n",
    "                d[value] = index\n",
    "        return"
   ]
  },
  {
   "cell_type": "markdown",
   "metadata": {},
   "source": [
    "2) https://leetcode.com/problems/reverse-integer/"
   ]
  },
  {
   "cell_type": "code",
   "execution_count": null,
   "metadata": {},
   "outputs": [],
   "source": [
    "class Solution(object):\n",
    "    def reverse(self, x):\n",
    "        \"\"\"\n",
    "        :type x: int\n",
    "        :rtype: int\n",
    "        \"\"\"\n",
    "        x = str(x)\n",
    "        if x[0] == '-':\n",
    "            a = int('-' + x[-1:0:-1])\n",
    "            if a >= -2147483648 and a<= 2147483647:\n",
    "                return a\n",
    "            else:\n",
    "                return 0\n",
    "        else:\n",
    "            a = int(x[::-1])\n",
    "            if a >= -2147483648 and a<= 2147483647:\n",
    "                return a\n",
    "            else:\n",
    "                return 0"
   ]
  },
  {
   "cell_type": "markdown",
   "metadata": {},
   "source": [
    "3) https://leetcode.com/problems/palindrome-number/"
   ]
  },
  {
   "cell_type": "code",
   "execution_count": null,
   "metadata": {},
   "outputs": [],
   "source": [
    "#built using str\n",
    "class Solution(object):\n",
    "    def isPalindrome(self, x):\n",
    "        \"\"\"\n",
    "        :type x: int\n",
    "        :rtype: bool\n",
    "        \"\"\"\n",
    "        word = str(x)\n",
    "        reverse = word[::-1]\n",
    "        if word == reverse:\n",
    "            return True\n",
    "        else:\n",
    "            return False"
   ]
  },
  {
   "cell_type": "code",
   "execution_count": null,
   "metadata": {},
   "outputs": [],
   "source": [
    "#not converting to str\n",
    "class Solution(object):\n",
    "    def isPalindrome(self, x):\n",
    "        \"\"\"\n",
    "        :type x: int\n",
    "        :rtype: bool\n",
    "        \"\"\"\n",
    "        if x < 0:\n",
    "            return False\n",
    "        rev = 0\n",
    "        y = 0\n",
    "        real = x\n",
    "        \n",
    "        while(x > 0):\n",
    "            y = x % 10\n",
    "            rev = (rev*10) + y\n",
    "            x = int(x / 10)\n",
    "        \n",
    "        if real == rev:\n",
    "            return True\n",
    "        else:\n",
    "            return False"
   ]
  },
  {
   "cell_type": "markdown",
   "metadata": {},
   "source": [
    "4) https://leetcode.com/problems/roman-to-integer/"
   ]
  },
  {
   "cell_type": "code",
   "execution_count": null,
   "metadata": {},
   "outputs": [],
   "source": [
    "class Solution(object):\n",
    "    def romanToInt(self, s):\n",
    "        \"\"\"\n",
    "        :type s: str\n",
    "        :rtype: int\n",
    "        \"\"\"\n",
    "        dic = {\"I\":1, \"V\":5, \"X\":10, \"L\":50, \"C\":100, \"D\":500, \"M\":1000}\n",
    "        integer = 0 \n",
    "        stand = 0\n",
    "        for i in s: \n",
    "            d = dic[i]\n",
    "            integer += d \n",
    "            if stand < d:\n",
    "                integer -= 2*stand\n",
    "            stand = d\n",
    "        return integer"
   ]
  },
  {
   "cell_type": "markdown",
   "metadata": {},
   "source": [
    "5) https://leetcode.com/problems/valid-parentheses/"
   ]
  },
  {
   "cell_type": "code",
   "execution_count": null,
   "metadata": {},
   "outputs": [],
   "source": [
    "class Solution(object):\n",
    "    def isValid(self, s):\n",
    "        \"\"\"\n",
    "        :type s: str\n",
    "        :rtype: bool\n",
    "        \"\"\"\n",
    "        brackets_map = {\n",
    "            '(': ')',\n",
    "            '{': '}',\n",
    "            '[': ']'\n",
    "        }\n",
    "        stack = []\n",
    "\n",
    "        for symbol in s:\n",
    "            if symbol in brackets_map:\n",
    "                stack.append(symbol)\n",
    "            elif stack and brackets_map[stack[-1]] == symbol:\n",
    "                stack.pop()\n",
    "            else:\n",
    "                return False\n",
    "        \n",
    "        return not stack # tru if stack is empty"
   ]
  },
  {
   "cell_type": "markdown",
   "metadata": {},
   "source": [
    "6) https://leetcode.com/problems/remove-duplicates-from-sorted-array/"
   ]
  },
  {
   "cell_type": "code",
   "execution_count": null,
   "metadata": {},
   "outputs": [],
   "source": [
    "def removeDuplicates(self, nums):\n",
    "        \"\"\"\n",
    "        :type nums: List[int]\n",
    "        :rtype: int\n",
    "        \"\"\"\n",
    "        index = 1\n",
    "        \n",
    "        while index < len(nums):\n",
    "            if nums[index] == nums[index-1]:\n",
    "                nums.pop(index)\n",
    "            else:\n",
    "                index += 1\n",
    "        return len(nums)"
   ]
  },
  {
   "cell_type": "markdown",
   "metadata": {},
   "source": [
    "7) https://leetcode.com/problems/remove-element/"
   ]
  },
  {
   "cell_type": "code",
   "execution_count": null,
   "metadata": {},
   "outputs": [],
   "source": [
    "class Solution(object):\n",
    "    def removeElement(self, nums, val):\n",
    "        \"\"\"\n",
    "        :type nums: List[int]\n",
    "        :type val: int\n",
    "        :rtype: int\n",
    "        \"\"\"\n",
    "        index = 0\n",
    "        \n",
    "        while (index < len(nums)):\n",
    "            if nums[index] == val:\n",
    "                nums.pop(index)\n",
    "                if index > 0:\n",
    "                    index = index - 1\n",
    "            else:\n",
    "                index = index + 1\n",
    "        \n",
    "        return len(nums)"
   ]
  },
  {
   "cell_type": "markdown",
   "metadata": {},
   "source": [
    "8) https://leetcode.com/problems/search-insert-position/"
   ]
  },
  {
   "cell_type": "code",
   "execution_count": null,
   "metadata": {},
   "outputs": [],
   "source": [
    "class Solution(object):\n",
    "    def searchInsert(self, nums, target):\n",
    "        \"\"\"\n",
    "        :type nums: List[int]\n",
    "        :type target: int\n",
    "        :rtype: int\n",
    "        \"\"\"\n",
    "        if nums[-1] < target:\n",
    "            return len(nums)\n",
    "        \n",
    "        l = 0\n",
    "        r = len(nums) - 1\n",
    "        while l <= r:\n",
    "            mid = (l + r)//2\n",
    "            if nums[mid] == target:\n",
    "                return mid\n",
    "            elif nums[mid] > target:\n",
    "                r = mid - 1\n",
    "            else:\n",
    "                l = mid + 1\n",
    "        \n",
    "        return l"
   ]
  },
  {
   "cell_type": "code",
   "execution_count": null,
   "metadata": {},
   "outputs": [],
   "source": [
    "class Solution(object):\n",
    "    def searchInsert(self, nums, target):\n",
    "        \"\"\"\n",
    "        :type nums: List[int]\n",
    "        :type target: int\n",
    "        :rtype: int\n",
    "        \"\"\"\n",
    "        if target in nums:\n",
    "            return nums.index(target)\n",
    "        else:\n",
    "            nums.append(target)\n",
    "            nums.sort()\n",
    "            return nums.index(target)"
   ]
  },
  {
   "cell_type": "code",
   "execution_count": null,
   "metadata": {},
   "outputs": [],
   "source": [
    "class Solution(object):\n",
    "    def searchInsert(self, nums, target):\n",
    "        \"\"\"\n",
    "        :type nums: List[int]\n",
    "        :type target: int\n",
    "        :rtype: int\n",
    "        \"\"\"\n",
    "        i=0\n",
    "        l=len(nums)\n",
    "        for i in range(l):\n",
    "            if(nums[i]>=target):\n",
    "                return i\n",
    "            \n",
    "        return l"
   ]
  },
  {
   "cell_type": "markdown",
   "metadata": {},
   "source": [
    "9) https://leetcode.com/problems/length-of-last-word/"
   ]
  },
  {
   "cell_type": "code",
   "execution_count": null,
   "metadata": {},
   "outputs": [],
   "source": [
    "class Solution(object):\n",
    "    def lengthOfLastWord(self, s):\n",
    "        \"\"\"\n",
    "        :type s: str\n",
    "        :rtype: int\n",
    "        \"\"\"\n",
    "        l = []\n",
    "        l = list(s.split())\n",
    "        if len(l) != 0:\n",
    "            return len(l[-1])\n",
    "        else:\n",
    "            return 0"
   ]
  },
  {
   "cell_type": "markdown",
   "metadata": {},
   "source": [
    "10) https://leetcode.com/problems/plus-one/"
   ]
  },
  {
   "cell_type": "code",
   "execution_count": null,
   "metadata": {},
   "outputs": [],
   "source": [
    "class Solution(object):\n",
    "    def plusOne(self, digits):\n",
    "        \"\"\"\n",
    "        :type digits: List[int]\n",
    "        :rtype: List[int]\n",
    "        \"\"\"\n",
    "        y = digits[-1]\n",
    "        newnum = 0\n",
    "        num = 0\n",
    "        \n",
    "        digits.pop()\n",
    "        \n",
    "        if len(digits) > 0:\n",
    "            # Converting integer list to string list \n",
    "            s = [str(i) for i in digits] \n",
    "\n",
    "            # Join list items using join() \n",
    "            num = int(\"\".join(s))\n",
    "            #num = int(st)\n",
    "        \n",
    "        newnum = num * 10\n",
    "        y = y+1\n",
    "        newnum = newnum+y\n",
    "        \n",
    "        l = []\n",
    "        \n",
    "        str1 = str(newnum)\n",
    "        for x in str1:\n",
    "            l.append(x)\n",
    "             \n",
    "        return l"
   ]
  },
  {
   "cell_type": "markdown",
   "metadata": {},
   "source": [
    "11) https://leetcode.com/problems/add-binary/"
   ]
  },
  {
   "cell_type": "code",
   "execution_count": null,
   "metadata": {},
   "outputs": [],
   "source": [
    "class Solution(object):\n",
    "    def addBinary(self, a, b):\n",
    "        \"\"\"\n",
    "        :type a: str\n",
    "        :type b: str\n",
    "        :rtype: str\n",
    "        \"\"\"\n",
    "        num1 = int(a,2)\n",
    "        num2 = int(b,2)\n",
    "        intSum = num1 + num2\n",
    "        binSum = bin(intSum)\n",
    "        strBin = str(binSum)\n",
    "        return strBin[2:]"
   ]
  },
  {
   "cell_type": "markdown",
   "metadata": {},
   "source": [
    "12) https://leetcode.com/problems/sqrtx/"
   ]
  },
  {
   "cell_type": "code",
   "execution_count": null,
   "metadata": {},
   "outputs": [],
   "source": [
    "class Solution(object):\n",
    "    def mySqrt(self, x):\n",
    "        \"\"\"\n",
    "        :type x: int\n",
    "        :rtype: int\n",
    "        \"\"\"\n",
    "        y = int(x**0.5)\n",
    "        return y"
   ]
  },
  {
   "cell_type": "markdown",
   "metadata": {},
   "source": [
    "13) https://leetcode.com/problems/merge-sorted-array/"
   ]
  },
  {
   "cell_type": "code",
   "execution_count": null,
   "metadata": {},
   "outputs": [],
   "source": [
    "class Solution(object):\n",
    "    def merge(self, nums1, m, nums2, n):\n",
    "        \"\"\"\n",
    "        :type nums1: List[int]\n",
    "        :type m: int\n",
    "        :type nums2: List[int]\n",
    "        :type n: int\n",
    "        :rtype: None Do not return anything, modify nums1 in-place instead.\n",
    "        \"\"\"\n",
    "                \n",
    "        for _ in range(n):\n",
    "            nums1.pop()\n",
    "        \n",
    "        for x in nums2:\n",
    "            nums1.append(x)\n",
    "            \n",
    "        nums1.sort()"
   ]
  },
  {
   "cell_type": "markdown",
   "metadata": {},
   "source": [
    "14) https://leetcode.com/problems/running-sum-of-1d-array/"
   ]
  },
  {
   "cell_type": "code",
   "execution_count": null,
   "metadata": {},
   "outputs": [],
   "source": [
    "class Solution(object):\n",
    "    def runningSum(self, nums):\n",
    "        \"\"\"\n",
    "        :type nums: List[int]\n",
    "        :rtype: List[int]\n",
    "        \"\"\"\n",
    "        l = []\n",
    "        s = 0\n",
    "        \n",
    "        for x in nums:\n",
    "            s = s + x\n",
    "            l.append(s)\n",
    "            \n",
    "        return ln"
   ]
  },
  {
   "cell_type": "markdown",
   "metadata": {},
   "source": [
    "15) https://leetcode.com/problems/kids-with-the-greatest-number-of-candies/"
   ]
  },
  {
   "cell_type": "code",
   "execution_count": null,
   "metadata": {},
   "outputs": [],
   "source": [
    "class Solution(object):\n",
    "    def kidsWithCandies(self, candies, extraCandies):\n",
    "        \"\"\"\n",
    "        :type candies: List[int]\n",
    "        :type extraCandies: int\n",
    "        :rtype: List[bool]\n",
    "        \"\"\"\n",
    "        num = max(candies)\n",
    "        l = []        \n",
    "        \n",
    "        for x in candies:\n",
    "            if x + extraCandies >= num:\n",
    "                l.append(True)\n",
    "            else:\n",
    "                l.append(False)\n",
    "        \n",
    "        return l"
   ]
  },
  {
   "cell_type": "markdown",
   "metadata": {},
   "source": [
    "16) https://leetcode.com/problems/number-of-good-pairs/"
   ]
  },
  {
   "cell_type": "code",
   "execution_count": null,
   "metadata": {},
   "outputs": [],
   "source": [
    "class Solution(object):\n",
    "    def numIdenticalPairs(self, nums):\n",
    "        \"\"\"\n",
    "        :type nums: List[int]\n",
    "        :rtype: int\n",
    "        \"\"\"\n",
    "        d = len(nums)\n",
    "        count = 0\n",
    "        \n",
    "        for i in range(d):\n",
    "            for j in range(d):\n",
    "                if (nums[i] == nums[j]) and (i < j):\n",
    "                    count  = count + 1\n",
    "        \n",
    "        return count"
   ]
  },
  {
   "cell_type": "markdown",
   "metadata": {},
   "source": [
    "17) https://leetcode.com/problems/defanging-an-ip-address/submissions/"
   ]
  },
  {
   "cell_type": "code",
   "execution_count": null,
   "metadata": {},
   "outputs": [],
   "source": [
    "class Solution(object):\n",
    "    def defangIPaddr(self, address):\n",
    "        s = \"\"\n",
    "        for x in address:\n",
    "            if x == \".\":\n",
    "                s = s + \"[.]\"\n",
    "            else:\n",
    "                s = s + x\n",
    "        \n",
    "        return s"
   ]
  },
  {
   "cell_type": "code",
   "execution_count": null,
   "metadata": {},
   "outputs": [],
   "source": [
    "class Solution(object):\n",
    "    def defangIPaddr(self, address):\n",
    "        \"\"\"\n",
    "        :type address: str\n",
    "        :rtype: str\n",
    "        \"\"\"\n",
    "        return address.replace(\".\", \"[.]\")"
   ]
  },
  {
   "cell_type": "markdown",
   "metadata": {},
   "source": [
    "18) https://leetcode.com/problems/longest-common-prefix/"
   ]
  },
  {
   "cell_type": "code",
   "execution_count": null,
   "metadata": {},
   "outputs": [],
   "source": [
    "class Solution:\n",
    "    def longestCommonPrefix(self, strs: List[str]) -> str:\n",
    "        if len(strs) == 0:\n",
    "            return \"\"\n",
    "        \n",
    "        s1, s2 = min(strs), max(strs)\n",
    "        \n",
    "        i = 0\n",
    "        while i < len(s1) and i < len(s2) and s1[i] == s2[i]:\n",
    "            i += 1\n",
    "        return s1[:i]"
   ]
  },
  {
   "cell_type": "markdown",
   "metadata": {},
   "source": [
    "19) https://leetcode.com/problems/merge-two-sorted-lists/"
   ]
  },
  {
   "cell_type": "code",
   "execution_count": null,
   "metadata": {},
   "outputs": [],
   "source": [
    "# Definition for singly-linked list.\n",
    "# class ListNode:\n",
    "#     def __init__(self, val=0, next=None):\n",
    "#         self.val = val\n",
    "#         self.next = next\n",
    "class Solution:\n",
    "    def mergeTwoLists(self, l1: ListNode, l2: ListNode) -> ListNode:\n",
    "        dummy = temp = ListNode(0)\n",
    "        while l1 != None and l2 != None: #1\n",
    "\n",
    "            if l1.val < l2.val: #2\n",
    "                temp.next = l1 # add node to the list\n",
    "                l1 = l1.next # increment the pointer of the sorted node to the next position\n",
    "            else: \n",
    "                temp.next = l2 # add node to the list\n",
    "                l2 = l2.next # increment the pointer of the sorted node to the next position\n",
    "            temp = temp.next # change the pointer to the latest node\n",
    "        temp.next = l1 or l2 # if any of the lists get finished, add the rest of the\n",
    "                             # other list to our main list\n",
    "        return dummy.next # because out list is currently pointing to 0\n",
    "                          # and what we need os from the next position to 0."
   ]
  },
  {
   "cell_type": "markdown",
   "metadata": {},
   "source": [
    "20) https://leetcode.com/problems/jewels-and-stones/"
   ]
  },
  {
   "cell_type": "code",
   "execution_count": null,
   "metadata": {},
   "outputs": [],
   "source": [
    "class Solution:\n",
    "    def numJewelsInStones(self, J: str, S: str) -> int:\n",
    "        \n",
    "        count = 0\n",
    "        \n",
    "        for x in J:\n",
    "            count = count + S.count(x)\n",
    "        \n",
    "        return count"
   ]
  },
  {
   "cell_type": "markdown",
   "metadata": {},
   "source": [
    "21) https://leetcode.com/problems/range-sum-of-bst/"
   ]
  },
  {
   "cell_type": "code",
   "execution_count": null,
   "metadata": {},
   "outputs": [],
   "source": [
    "def rangeSumBST(self, root: TreeNode, low: int, high: int) -> int:\n",
    "        \n",
    "        def dfs(root):\n",
    "            nonlocal total\n",
    "            \n",
    "            if not root:\n",
    "                return 0\n",
    "            \n",
    "            if low <= root.val <= high:\n",
    "                total = total + root.val\n",
    "                \n",
    "            if root.left:\n",
    "                dfs(root.left)\n",
    "            if root.right:\n",
    "                dfs(root.right)\n",
    "                \n",
    "        total = 0\n",
    "        dfs(root)\n",
    "        \n",
    "        return total"
   ]
  },
  {
   "cell_type": "markdown",
   "metadata": {},
   "source": [
    "22) https://leetcode.com/problems/increasing-order-search-tree/"
   ]
  },
  {
   "cell_type": "code",
   "execution_count": null,
   "metadata": {},
   "outputs": [],
   "source": [
    "# Definition for a binary tree node.\n",
    "# class TreeNode:\n",
    "#     def __init__(self, val=0, left=None, right=None):\n",
    "#         self.val = val\n",
    "#         self.left = left\n",
    "#         self.right = right\n",
    "class Solution:\n",
    "    \n",
    "    # define the list here\n",
    "    def __init__(self):\n",
    "        self.l = []\n",
    "    \n",
    "    # traverse the tree in order\n",
    "    def order(self, root):\n",
    "        if not root:\n",
    "            return\n",
    "        \n",
    "        self.order(root.left)\n",
    "        self.l.append(root.val)\n",
    "        self.order(root.right)\n",
    "        \n",
    "    def increasingBST(self, root: TreeNode) -> TreeNode:\n",
    "        self.order(root)\n",
    "        \n",
    "        # make a dummy node and a main node\n",
    "        # attach the base of new node to the dummy node\n",
    "        newNode = TreeNode(self.l[0])\n",
    "        dummyNode = newNode\n",
    "        \n",
    "        #attach the nodes to the right of the dummy node\n",
    "        for x in range(1, len(self.l)):\n",
    "            dummyNode.right = TreeNode(self.l[x])\n",
    "            dummyNode = dummyNode.right\n",
    "            \n",
    "        return newNode"
   ]
  },
  {
   "cell_type": "markdown",
   "metadata": {},
   "source": [
    "23) https://leetcode.com/problems/maximum-depth-of-n-ary-tree/submissions/"
   ]
  },
  {
   "cell_type": "code",
   "execution_count": null,
   "metadata": {},
   "outputs": [],
   "source": [
    "\"\"\"\n",
    "# Definition for a Node.\n",
    "class Node:\n",
    "    def __init__(self, val=None, children=None):\n",
    "        self.val = val\n",
    "        self.children = children\n",
    "\"\"\"\n",
    "\n",
    "class Solution:\n",
    "    def maxDepth(self, root: 'Node') -> int:\n",
    "                \n",
    "        if not root:\n",
    "            return 0\n",
    "        else:\n",
    "            count = 0\n",
    "            \n",
    "            for x in root.children:\n",
    "                count = max(count, self.maxDepth(x))\n",
    "                \n",
    "            return 1 + count\n",
    "        "
   ]
  },
  {
   "cell_type": "markdown",
   "metadata": {},
   "source": [
    "24) https://leetcode.com/problems/maximum-depth-of-binary-tree/"
   ]
  },
  {
   "cell_type": "code",
   "execution_count": null,
   "metadata": {},
   "outputs": [],
   "source": [
    "# Definition for a binary tree node.\n",
    "# class TreeNode:\n",
    "#     def __init__(self, val=0, left=None, right=None):\n",
    "#         self.val = val\n",
    "#         self.left = left\n",
    "#         self.right = right\n",
    "class Solution:\n",
    "    def maxDepth(self, root: TreeNode) -> int:\n",
    "        \n",
    "        if not root:\n",
    "            return 0\n",
    "        \n",
    "        lDepth = self.maxDepth(root.left) + 1\n",
    "        rDepth = self.maxDepth(root.right) + 1\n",
    "        \n",
    "        return max(lDepth, rDepth)"
   ]
  },
  {
   "cell_type": "markdown",
   "metadata": {},
   "source": [
    "25) https://leetcode.com/problems/leaf-similar-trees/"
   ]
  },
  {
   "cell_type": "code",
   "execution_count": null,
   "metadata": {},
   "outputs": [],
   "source": [
    "# Definition for a binary tree node.\n",
    "# class TreeNode:\n",
    "#     def __init__(self, val=0, left=None, right=None):\n",
    "#         self.val = val\n",
    "#         self.left = left\n",
    "#         self.right = right\n",
    "class Solution:\n",
    "    def leafSimilar(self, root1: TreeNode, root2: TreeNode) -> bool:\n",
    "             \n",
    "        def dfs(root):\n",
    "            if not root:\n",
    "                return []\n",
    "            \n",
    "            if not root.left and not root.right:\n",
    "                return [root.val]\n",
    "            \n",
    "            return dfs(root.left) + dfs(root.right)\n",
    "                \n",
    "        return dfs(root1) == dfs(root2)"
   ]
  },
  {
   "cell_type": "markdown",
   "metadata": {},
   "source": [
    "26) https://leetcode.com/problems/convert-sorted-array-to-binary-search-tree/"
   ]
  },
  {
   "cell_type": "code",
   "execution_count": null,
   "metadata": {},
   "outputs": [],
   "source": [
    "# Definition for a binary tree node.\n",
    "# class TreeNode:\n",
    "#     def __init__(self, val=0, left=None, right=None):\n",
    "#         self.val = val\n",
    "#         self.left = left\n",
    "#         self.right = right\n",
    "class Solution:\n",
    "    def sortedArrayToBST(self, nums: List[int]) -> TreeNode:\n",
    "        \n",
    "        if not nums:\n",
    "            return None\n",
    "        \n",
    "        mid = len(nums) // 2\n",
    "        \n",
    "        root = TreeNode(nums[mid])\n",
    "        \n",
    "        root.left = self.sortedArrayToBST(nums[:mid])\n",
    "        root.right = self.sortedArrayToBST(nums[mid+1:])\n",
    "        \n",
    "        return root"
   ]
  },
  {
   "cell_type": "markdown",
   "metadata": {},
   "source": [
    "27) https://leetcode.com/problems/same-tree/"
   ]
  },
  {
   "cell_type": "code",
   "execution_count": null,
   "metadata": {},
   "outputs": [],
   "source": [
    "# Definition for a binary tree node.\n",
    "# class TreeNode:\n",
    "#     def __init__(self, val=0, left=None, right=None):\n",
    "#         self.val = val\n",
    "#         self.left = left\n",
    "#         self.right = right\n",
    "class Solution:\n",
    "    def isSameTree(self, p: TreeNode, q: TreeNode) -> bool:\n",
    "        \n",
    "        if not p and not q:\n",
    "            return True\n",
    "        \n",
    "        if not p or not q:\n",
    "            return False\n",
    "        \n",
    "        if p.val != q.val:\n",
    "            return False\n",
    "        \n",
    "        if p and q:\n",
    "            return self.isSameTree(p.left, q.left) and self.isSameTree(p.right, q.right)"
   ]
  },
  {
   "cell_type": "markdown",
   "metadata": {},
   "source": [
    "28) https://leetcode.com/problems/squares-of-a-sorted-array/"
   ]
  },
  {
   "cell_type": "code",
   "execution_count": null,
   "metadata": {},
   "outputs": [],
   "source": [
    "class Solution:\n",
    "    def sortedSquares(self, nums: List[int]) -> List[int]:\n",
    "        l = []\n",
    "        \n",
    "        for x in nums:\n",
    "            l.append(x**2)\n",
    "            \n",
    "        l.sort()\n",
    "        \n",
    "        return l"
   ]
  },
  {
   "cell_type": "markdown",
   "metadata": {},
   "source": [
    "29) https://leetcode.com/problems/reverse-string/"
   ]
  },
  {
   "cell_type": "code",
   "execution_count": null,
   "metadata": {},
   "outputs": [],
   "source": [
    "class Solution:\n",
    "    def reverseString(self, s: List[str]) -> None:\n",
    "        \"\"\"\n",
    "        Do not return anything, modify s in-place instead.\n",
    "        \"\"\"\n",
    "        \n",
    "        start = 0\n",
    "        end = len(s) - 1\n",
    "        \n",
    "        while start < end:\n",
    "            s[start] , s[end] = s[end], s[start]\n",
    "            \n",
    "            start = start + 1\n",
    "            end = end - 1"
   ]
  },
  {
   "cell_type": "markdown",
   "metadata": {},
   "source": [
    "30) https://leetcode.com/problems/intersection-of-two-arrays/"
   ]
  },
  {
   "cell_type": "code",
   "execution_count": null,
   "metadata": {},
   "outputs": [],
   "source": [
    "class Solution:\n",
    "    def set_intersection(self, set1, set2):\n",
    "            return [x for x in set1 if x in set2]\n",
    "    \n",
    "    def intersection(self, nums1: List[int], nums2: List[int]) -> List[int]:\n",
    "        \n",
    "        set1 = set(nums1)\n",
    "        set2 = set(nums2)\n",
    "        \n",
    "        if len(set1) < len(set2):\n",
    "            return self.set_intersection(set1, set2)\n",
    "        else:\n",
    "            return self.set_intersection(set2, set1)"
   ]
  },
  {
   "cell_type": "markdown",
   "metadata": {},
   "source": [
    "31) https://leetcode.com/problems/move-zeroes/"
   ]
  },
  {
   "cell_type": "code",
   "execution_count": null,
   "metadata": {},
   "outputs": [],
   "source": [
    "class Solution:\n",
    "    def moveZeroes(self, nums: List[int]) -> None:\n",
    "        \"\"\"\n",
    "        Do not return anything, modify nums in-place instead.\n",
    "        \"\"\"\n",
    "        \n",
    "        z = 0\n",
    "        \n",
    "        for i in range(len(nums)):\n",
    "            if nums[i] != 0:\n",
    "                nums[z] = nums[i]\n",
    "                z += 1\n",
    "                \n",
    "        for x in range(z, len(nums)):\n",
    "            nums[x] = 0"
   ]
  },
  {
   "cell_type": "markdown",
   "metadata": {},
   "source": [
    "32) https://leetcode.com/problems/two-sum-ii-input-array-is-sorted/"
   ]
  },
  {
   "cell_type": "code",
   "execution_count": null,
   "metadata": {},
   "outputs": [],
   "source": [
    "class Solution:\n",
    "    def twoSum(self, numbers: List[int], target: int) -> List[int]:\n",
    "        \n",
    "        start = 0\n",
    "        end  = len(numbers) - 1\n",
    "        \n",
    "        while start < end:\n",
    "            if numbers[start] + numbers[end] == target:\n",
    "                return [start+1, end+1]\n",
    "            elif numbers[start] + numbers[end] < target:\n",
    "                start += 1\n",
    "            elif numbers[start] + numbers[end] > target:\n",
    "                end -= 1"
   ]
  },
  {
   "cell_type": "markdown",
   "metadata": {},
   "source": [
    "33) https://leetcode.com/problems/intersection-of-two-arrays-ii/"
   ]
  },
  {
   "cell_type": "code",
   "execution_count": null,
   "metadata": {},
   "outputs": [],
   "source": [
    "class Solution:\n",
    "    def set_intersection(self, nums1, nums2, l):\n",
    "        for x in nums1:\n",
    "            if x in nums2:\n",
    "                nums2.remove(x)\n",
    "                l.append(x)\n",
    "        return l\n",
    "        \n",
    "    def intersect(self, nums1: List[int], nums2: List[int]) -> List[int]:\n",
    "        \n",
    "        if len(nums1) < len(nums2):\n",
    "            return self.set_intersection(nums1, nums2, [])\n",
    "        else:\n",
    "            return self.set_intersection(nums2, nums1, [])"
   ]
  },
  {
   "cell_type": "markdown",
   "metadata": {},
   "source": [
    "34) https://leetcode.com/problems/backspace-string-compare/"
   ]
  },
  {
   "cell_type": "code",
   "execution_count": null,
   "metadata": {},
   "outputs": [],
   "source": [
    "class Solution:\n",
    "    def backspaceCompare(self, S: str, T: str) -> bool:\n",
    "        \n",
    "        def checker(word: str) -> str:\n",
    "            newWord = \"\"\n",
    "            \n",
    "            for i in range(len(word)):\n",
    "                if word[i] == '#':\n",
    "                    newWord = newWord[:-1]\n",
    "                else:\n",
    "                    newWord = newWord + word[i]\n",
    "                    \n",
    "            return newWord\n",
    "        \n",
    "        return checker(S) == checker(T)"
   ]
  },
  {
   "cell_type": "markdown",
   "metadata": {},
   "source": [
    "35) https://leetcode.com/problems/reverse-vowels-of-a-string/"
   ]
  },
  {
   "cell_type": "code",
   "execution_count": null,
   "metadata": {},
   "outputs": [],
   "source": [
    "class Solution:\n",
    "    def reverseVowels(self, s: str) -> str:\n",
    "        \n",
    "        rev = self.getVowel(s)\n",
    "        newWord = \"\"\n",
    "        for i in s:\n",
    "            if i in \"aeiouAEIOU\":\n",
    "                newWord += rev.pop()\n",
    "            else:\n",
    "                newWord += i\n",
    "        return newWord\n",
    "        \n",
    "    def getVowel(self, s):\n",
    "        sol = []\n",
    "        for i in s:\n",
    "            if i in \"aeiouAEIOU\":\n",
    "                sol.append(i)\n",
    "        return sol"
   ]
  },
  {
   "cell_type": "markdown",
   "metadata": {},
   "source": [
    "36) https://leetcode.com/problems/linked-list-cycle/"
   ]
  },
  {
   "cell_type": "code",
   "execution_count": null,
   "metadata": {},
   "outputs": [],
   "source": [
    "# Definition for singly-linked list.\n",
    "# class ListNode:\n",
    "#     def __init__(self, x):\n",
    "#         self.val = x\n",
    "#         self.next = None\n",
    "\n",
    "class Solution:\n",
    "    def hasCycle(self, head: ListNode) -> bool:\n",
    "        \n",
    "        s = set()\n",
    "        while(head):\n",
    "            if head in s:\n",
    "                return True\n",
    "            \n",
    "            s.add(head)\n",
    "            head = head.next\n",
    "            \n",
    "        return False"
   ]
  },
  {
   "cell_type": "markdown",
   "metadata": {},
   "source": [
    "37) https://leetcode.com/problems/palindrome-linked-list/"
   ]
  },
  {
   "cell_type": "code",
   "execution_count": null,
   "metadata": {},
   "outputs": [],
   "source": [
    "# Definition for singly-linked list.\n",
    "# class ListNode:\n",
    "#     def __init__(self, val=0, next=None):\n",
    "#         self.val = val\n",
    "#         self.next = next\n",
    "class Solution:\n",
    "    def isPalindrome(self, head: ListNode) -> bool:\n",
    "        l = []\n",
    "        \n",
    "        while(head):\n",
    "            l.append(head.val)\n",
    "            head = head.next\n",
    "            \n",
    "        return l == l[::-1]"
   ]
  },
  {
   "cell_type": "markdown",
   "metadata": {},
   "source": [
    "38) https://leetcode.com/problems/long-pressed-name/"
   ]
  },
  {
   "cell_type": "code",
   "execution_count": null,
   "metadata": {},
   "outputs": [],
   "source": [
    "# THIS ONE IS TOUGH...FOUND FROM SOLUTIONS\n",
    "class Solution:\n",
    "    def isLongPressedName(self, name: str, typed: str) -> bool:\n",
    "        g1 = [(k, len(list(grp))) for k, grp in itertools.groupby(name)]\n",
    "        g2 = [(k, len(list(grp))) for k, grp in itertools.groupby(typed)]\n",
    "        if len(g1) != len(g2):\n",
    "            return False\n",
    "\n",
    "        return all(k1 == k2 and v1 <= v2\n",
    "                   for (k1,v1), (k2,v2) in zip(g1, g2))"
   ]
  },
  {
   "cell_type": "markdown",
   "metadata": {},
   "source": [
    "39) https://leetcode.com/problems/valid-palindrome/"
   ]
  },
  {
   "cell_type": "code",
   "execution_count": null,
   "metadata": {},
   "outputs": [],
   "source": [
    "class Solution:\n",
    "    def isPalindrome(self, s: str) -> bool:\n",
    "        b = \"\"\n",
    "        for x in s:\n",
    "            if x.isalnum():\n",
    "                b += x\n",
    "\n",
    "        return b.lower() == b[::-1].lower()"
   ]
  },
  {
   "cell_type": "markdown",
   "metadata": {},
   "source": [
    "40) https://leetcode.com/problems/implement-strstr/"
   ]
  },
  {
   "cell_type": "code",
   "execution_count": null,
   "metadata": {},
   "outputs": [],
   "source": [
    "class Solution:\n",
    "    def strStr(self, haystack: str, needle: str) -> int:\n",
    "        if haystack == \"\" and needle == \"\":\n",
    "            return 0\n",
    "        \n",
    "        for i in range(len(haystack)):\n",
    "            if haystack[i:i+len(needle)] == needle:\n",
    "                return i\n",
    "        \n",
    "        return -1"
   ]
  },
  {
   "cell_type": "code",
   "execution_count": null,
   "metadata": {},
   "outputs": [],
   "source": []
  },
  {
   "cell_type": "code",
   "execution_count": null,
   "metadata": {},
   "outputs": [],
   "source": []
  },
  {
   "cell_type": "code",
   "execution_count": null,
   "metadata": {},
   "outputs": [],
   "source": []
  },
  {
   "cell_type": "code",
   "execution_count": null,
   "metadata": {},
   "outputs": [],
   "source": []
  }
 ],
 "metadata": {
  "kernelspec": {
   "display_name": "Python 3",
   "language": "python",
   "name": "python3"
  },
  "language_info": {
   "codemirror_mode": {
    "name": "ipython",
    "version": 3
   },
   "file_extension": ".py",
   "mimetype": "text/x-python",
   "name": "python",
   "nbconvert_exporter": "python",
   "pygments_lexer": "ipython3",
   "version": "3.7.6"
  }
 },
 "nbformat": 4,
 "nbformat_minor": 4
}
